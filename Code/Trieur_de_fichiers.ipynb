{
 "cells": [
  {
   "cell_type": "code",
   "execution_count": 1,
   "id": "3907ef01",
   "metadata": {},
   "outputs": [],
   "source": [
    "import os\n",
    "import shutil\n",
    "\n",
    "dossier_principal = os.getcwd()\n",
    "\n",
    "extensions = {\"Videos\": [\".mp4\"],\"Images\": [\".jpg\", \".jpeg\", \".png\",\".gif\", \".svg\", \".webp\", \".ico\"],\n",
    "                  \"Documents\": [\".doc\", \".pdf\", \".txt\", \".docx\", \".pages\", \".PDF\", \".xlsx\"],\n",
    "                  \"Musiques\": [\".mp3\"],\n",
    "                  \"Code\": [\".ipynb\", \".py\", \".css\", \".js\", \".html\", \".xml\", \".md\", \".json\"],\n",
    "                  \"Diaporamas\": [\".pptx\"]}\n",
    "\n",
    "for dossier in extensions.keys():\n",
    "    chemin_sous_dossier = os.path.join(dossier_principal, dossier)\n",
    "    if not os.path.exists(chemin_sous_dossier):\n",
    "        os.makedirs(chemin_sous_dossier)\n",
    "\n",
    "def trier():\n",
    "    for fichier in os.listdir(dossier_principal):\n",
    "        if os.path.isfile(fichier):\n",
    "            for dossier, exts in extensions.items():\n",
    "                for ext in exts:\n",
    "                    if fichier.endswith(ext):\n",
    "                        chemin_sous_dossier = os.path.join(dossier_principal, dossier)\n",
    "                        shutil.move(fichier, os.path.join(chemin_sous_dossier, fichier))\n",
    "\n",
    "trier()"
   ]
  },
  {
   "cell_type": "code",
   "execution_count": null,
   "id": "74c14428",
   "metadata": {},
   "outputs": [],
   "source": []
  }
 ],
 "metadata": {
  "kernelspec": {
   "display_name": "Python 3 (ipykernel)",
   "language": "python",
   "name": "python3"
  },
  "language_info": {
   "codemirror_mode": {
    "name": "ipython",
    "version": 3
   },
   "file_extension": ".py",
   "mimetype": "text/x-python",
   "name": "python",
   "nbconvert_exporter": "python",
   "pygments_lexer": "ipython3",
   "version": "3.11.7"
  }
 },
 "nbformat": 4,
 "nbformat_minor": 5
}
